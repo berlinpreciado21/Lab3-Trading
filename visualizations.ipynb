{
 "cells": [
  {
   "cell_type": "code",
   "execution_count": 2,
   "metadata": {},
   "outputs": [],
   "source": [
    "import plotly.express as px\n",
    "import plotly.graph_objects as go\n",
    "import functions as fn\n"
   ]
  },
  {
   "cell_type": "code",
   "execution_count": 4,
   "metadata": {},
   "outputs": [],
   "source": [
    "#Grafica de pastel\n",
    "def pastel_graph(dict_estadisticas):\n",
    "\n",
    "    labels = dict_estadisticas[\"Symbol\"].to_list()\n",
    "    values =dict_estadisticas[\"Rank \"].to_list()\n",
    "\n",
    "    fig = go.Figure(data=[go.Pie(labels=labels, values=values, pull=[0, 0, 0.2, 0])])\n",
    "    fig.update_layout(\n",
    "        title_text=\"Ranking de las Operaciones de Trading\")\n",
    "\n",
    "    return fig.show()"
   ]
  },
  {
   "cell_type": "code",
   "execution_count": null,
   "metadata": {},
   "outputs": [],
   "source": [
<<<<<<< Updated upstream
    "# Grafica draw"
=======
    "# Grafica de barras\n",
    "\n",
    "def bar_chart(resultados):\n",
    "    oc=resultados[\"ocurrencias\"].to_list()\n",
    "    sq=resultados[\"status_quo\"].to_list()\n",
    "    av=resultados[\"aversion\"].to_list()\n",
    "    x = [\"Status Quo\", \"Aversión a la pérdida\", \"Sensibilidad decreciente\"]\n",
    "    y = [sum(oc), sum(sq), sum(av)]\n",
    "    fig = go.Figure([go.Bar(x=x, y=y)])\n",
    "    fig.update_layout(title='Disposition Effect', xaxis_title='Sesgos', yaxis_title='Cantidad de ocurrencias')\n",
    "    return fig"
>>>>>>> Stashed changes
   ]
  }
 ],
 "metadata": {
  "kernelspec": {
   "display_name": "Python 3",
   "language": "python",
   "name": "python3"
  },
  "language_info": {
   "codemirror_mode": {
    "name": "ipython",
    "version": 3
   },
   "file_extension": ".py",
   "mimetype": "text/x-python",
   "name": "python",
   "nbconvert_exporter": "python",
   "pygments_lexer": "ipython3",
   "version": "3.8.3"
  }
 },
 "nbformat": 4,
 "nbformat_minor": 4
}

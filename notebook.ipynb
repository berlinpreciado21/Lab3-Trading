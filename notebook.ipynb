{
 "cells": [
  {
   "cell_type": "markdown",
   "metadata": {},
   "source": [
    "<center> <img src=\"http://oci02.img.iteso.mx/identidad_de_instancia_2018/ITESO/Logos%20ITESO/Logo-ITESO-Principal.jpg\" align=\"center\" width=\"960\" height=\"480\"/> </center>"
   ]
  },
  {
   "cell_type": "markdown",
   "metadata": {},
   "source": [
    "<center><font color=#555555><font size=6> MAF1731 - Microestructura y Sistemas de Trading </font> <br> <br>\n",
    "    \n",
    "<center><font color=#555555><font size=5> Ingeniería Financiera </font> <br> <br> <br> <br>\n",
    "\n",
    "<center><font color=#555555><font size=5> Estudiantes: Berlín l. Preciado Escalera, Jorge Zuñiga y Luis Enrique</font> <br> <br>\n",
    "   \n",
    "<center> <font color= #555555> <font size = 4> Primavera 2022 </a> | <font color= #555555> <font size = 4> Repository: <a href='https://github.com/berlinpreciado21/MyST_LAB_3_E1'>Link</a></font>"
   ]
  },
  {
   "cell_type": "markdown",
   "metadata": {},
   "source": [
    "<hr style=\"border:0.02in solid gray\"> </hr>"
   ]
  },
  {
   "cell_type": "markdown",
   "metadata": {},
   "source": [
    "<center> <font color= #555555> <font size = 6> Laboratorio 3: Behavioral Finance </font> <br> <br> <font color= #555555> <font size = 3> El propósito principal de este laboratorio es  elaborar herramientas para el análisis del desempeño de la actividad de trading en forex, desde el punto de vista de la cuenta y desde el punto de vista de la persona que opera la cuenta (trader) </font>"
   ]
  },
  {
   "cell_type": "markdown",
   "metadata": {},
   "source": [
    "<hr style=\"border:0.02in solid gray\"> </hr>"
   ]
  },
  {
   "cell_type": "markdown",
   "metadata": {},
   "source": [
    "<br>"
   ]
  },
  {
   "cell_type": "markdown",
   "metadata": {},
   "source": [
    "<font color= #555555> <font size = 4> Resumen </font>"
   ]
  },
  {
   "cell_type": "markdown",
   "metadata": {},
   "source": [
    "<font color= #6B6B6B> <font size = 2> El siguiente trabajo será realizado con el objetivo de identificar los sesgos que pudimos tener al realizar distintas operaciones durante la practica de trading en forex. Para esto, se realizaron distintos funciones con el proposito de realizar **estadísticas descriptivas, métricas de atribución al desempeño y sesgo cognitivo.** </font>"
   ]
  },
  {
   "cell_type": "markdown",
   "metadata": {},
   "source": [
    "<br>"
   ]
  },
  {
   "cell_type": "markdown",
   "metadata": {},
   "source": [
    "# <font color= #6B6B6B> <font size = 6> 1. Introducción </font>"
   ]
  },
  {
   "cell_type": "markdown",
   "metadata": {},
   "source": [
    "<hr style=\"border:0.02in solid gray\"> </hr>"
   ]
  },
  {
   "cell_type": "markdown",
   "metadata": {},
   "source": [
    "Las personas actúan en los mercados de forma irracional, y el *comportamiento en las finanzas* trata de entender esta irracionalidad, y ser capaces de medir este comportamiento. Al igual que los mercados no son eficientes, los inversionistas que participan en los mismos tampoco lo son, ya que no siempre se dispone de toda la información necesaria para tomar la mejor decisión y no siempre se toma la decisión óptima, por lo tanto, el inversor busca sentirse bien ante una decisión. Los inversionistas al ser seres emocionales y con una racionalidad limitada.\n",
    "\n",
    "La mayoría de nosotros puede cohincidir en que tomamos decisiones concientes o inconsientes. Pero quizá estas decisiones cualquiera sea su modalidad pueden estar sesgadas, es decir existe un peso desproporcionado a favor o en contra de una cosa, persona o grupo en comparación con otra, generalmente de una manera que se considera injusta.\n",
    "\n",
    "Los seres humanos hemos ido adaptando mecanismos de respuesta y defensa ante diferentes estímulos y situaciones. Son resortes que saltan de forma automática y que están muy arraigados en nuestro cerebro. La psicología los denomina sesgos cognitivos, y el del optimismo es uno de los más activos y presentes en nuestros actos y pensamientos, aunque muchas veces no nos demos ni cuenta.Cada ser humano es diferente y por ende su proceso para tomar decisiones, pero existe la posibilidad de analiar y encontrar patrones que determinen dichos sesgos en donde el primer paso para corregirlos es ser conciente de ello.\n",
    "\n",
    "Por lo tanto, quisimos realizar un analisis del cómo el sesgo cognitivo influyó en nuestras ganancias y perdidas al realizar la practica de trading en forex. En el sigiuiente trabajo se realizarán distintas métricas para la interpretación de los resultados.\n"
   ]
  },
  {
   "cell_type": "markdown",
   "metadata": {},
   "source": [
    "<br>"
   ]
  },
  {
   "cell_type": "markdown",
   "metadata": {},
   "source": [
    "# <font color= #6B6B6B> 2. Librerías y dependencias </font>"
   ]
  },
  {
   "cell_type": "markdown",
   "metadata": {},
   "source": [
    "<hr style=\"border:0.02in solid gray\"> </hr>"
   ]
  },
  {
   "cell_type": "markdown",
   "metadata": {},
   "source": [
    "<font color= #6E6E6E>\n",
    "    \n",
    "## 2.1 Librerias\n",
    "\n",
    "Para correr este notebook es necesario tener instaladas las siguientes librerías :\n",
    "\n",
    "pandas >= 1.1.1\n",
    "\n",
    "numpy >= 1.19.1\n",
    "\n",
    "jupyter >= 1.0.0\n",
    "\n",
    "statistics\n",
    "\n",
    "MetaTrader5 >= 5.0.34\n",
    "\n",
    "datetime\n",
    "\n",
    "## 2.2 Dependencias\n",
    "    \n",
    "Para correr este notebook es necesario contar con los siguientes archivos y dependencias externas:\n",
    "\n",
    "files/historicos_berlin.xlsx : Historicos de Berlin \n",
    "    \n",
    "files/historicos_jorge.xlsx : Historicos de Jorge\n",
    "    \n",
    "files/historicos_luis.xlsx : Historicos de Luis Enrique\n",
    "    \n",
    "</font>"
   ]
  },
  {
   "cell_type": "markdown",
   "metadata": {},
   "source": [
    "<font color= #6E6E6E>\n",
    "    \n",
    "## 2.3 Instalación de paqueterias\n",
    "\n",
    "</font>\n"
   ]
  },
  {
   "cell_type": "code",
   "execution_count": 18,
   "metadata": {},
   "outputs": [],
   "source": [
    "import functions as f"
   ]
  },
  {
   "cell_type": "markdown",
   "metadata": {},
   "source": [
    "<font color= red> DELETE THIS CELL FROM YOUR FILE</font>\n",
    "\n",
    "- A \"cell magic command\" to hide output of the cell:\n",
    "> %%capture\n",
    "\n",
    "- Not recommended:\n",
    "> !pip install -r requirements.txt \n",
    "\n",
    "- Use these two lines instead:\n",
    "\n",
    "> import sys\n",
    "<br>\n",
    "> !{sys.executable} -m pip install -r requirements.txt"
   ]
  },
  {
   "cell_type": "code",
   "execution_count": 19,
   "metadata": {},
   "outputs": [],
   "source": [
    "%%capture\n",
    "\n",
    "# Install all the pip packages in the requirements.txt\n",
    "import sys\n",
    "!{sys.executable} -m pip install -r requirements.txt"
   ]
  },
  {
   "cell_type": "markdown",
   "metadata": {},
   "source": [
    "<br>"
   ]
  },
  {
   "cell_type": "markdown",
   "metadata": {},
   "source": [
    "# <font color= #6B6B6B> 3. Data Description </font>"
   ]
  },
  {
   "cell_type": "markdown",
   "metadata": {},
   "source": [
    "<hr style=\"border:0.02in solid gray\"> </hr>"
   ]
  },
  {
   "cell_type": "code",
   "execution_count": 20,
   "metadata": {},
   "outputs": [],
   "source": [
    "# Información de los usuarios del equipo\n",
    "jorge = r'files\\historico_jorge.csv'\n",
    "# Here you include content from data conceptual, statistical and visual description"
   ]
  },
  {
   "cell_type": "markdown",
   "metadata": {},
   "source": [
    "<br>"
   ]
  },
  {
   "cell_type": "markdown",
   "metadata": {},
   "source": [
    "# <font color= #6B6B6B> 4. Proceso   </font>"
   ]
  },
  {
   "cell_type": "markdown",
   "metadata": {},
   "source": [
    "<hr style=\"border:0.02in solid gray\"> </hr>"
   ]
  },
  {
   "cell_type": "markdown",
   "metadata": {},
   "source": [
    "<font color= #6B6B6B> \n",
    "    \n",
    "### Parte 1. Estadística Descriptiva   \n",
    "\n",
    "</font>"
   ]
  },
  {
   "cell_type": "markdown",
   "metadata": {},
   "source": [
    "El archivo de functions.py contiene las siguientes funciones a continuación necesarios para la construcción del primer modulo:\n",
    "\n",
    "- **f_leer_archivo**: Lectura y visualización del historial de operaciones.\n",
    "\n",
    "- **f_pip_size**: Cáluclo del tamaño de pips por instrumento, pues al ser pares de divisas la conversión es diferente para cada una. \n",
    "\n",
    "- **f_columnas_tiempos**: Cierre de operaciones a formato datetime con la intención de hacer más sencilla la lectura y manejo de datos. A su vez determina el tiempo transcurrido en el que se mantuvo abierta la operación.\n",
    "\n",
    "- **f_columnas_pips**: Se expresan los pips generados por operaciones, es decir pérdidas y ganancias expresadas en esta unidad.\n",
    "\n",
    "- **f_estadisticas_ba**: Una función cuya salida sea un diccionario"
   ]
  },
  {
   "cell_type": "code",
   "execution_count": 21,
   "metadata": {},
   "outputs": [],
   "source": [
    "# Utiliza f_leer_archivo y f_pip_size\n",
    "posiciones = f.f_leer_archivo(jorge)\n",
    "new_doc_pips = f.f_leer_pip()"
   ]
  },
  {
   "cell_type": "code",
   "execution_count": 22,
   "metadata": {},
   "outputs": [],
   "source": [
    "# Utiliza f_columnas_tiempos y f_columnas_pips\n",
    "posiciones = f.f_columnas_tiempos(posiciones)\n",
    "posiciones = f.f_columnas_pips(posiciones,new_doc_pips)"
   ]
  },
  {
   "cell_type": "code",
   "execution_count": 23,
   "metadata": {},
   "outputs": [],
   "source": [
    "#Se consolida las estadisticas que tuvieron las operaciones hechas en el laboratorio pasado\n",
    "modulo_1 = f.f_estadisticas_ba(posiciones)"
   ]
  },
  {
   "cell_type": "code",
   "execution_count": 24,
   "metadata": {},
   "outputs": [
    {
     "data": {
      "text/plain": [
       "{'df_1_tabla':                       Valor                            Descripcion\n",
       " Medida                                                            \n",
       " Ops totales       15.000000                    Operaciones totales\n",
       " Ganadoras          6.000000                  Operaciones ganadoras\n",
       " Ganadoras_c        2.000000        Operaciones ganadoras de compra\n",
       " Ganadoras_v        4.000000         Operaciones ganadoras de venta\n",
       " Perdedoras         9.000000                 Operaciones perdedoras\n",
       " Perdedoras_c       4.000000       Operaciones perdedoras de compra\n",
       " Perdedoras_v       5.000000        Operaciones perdedoras de venta\n",
       " Mediana(Profit) -266.510000       Mediana de profit de operaciones\n",
       " Mediana(Pips)    -18.900000         Mediana de pips de operaciones\n",
       " r_efectividad      0.400000  Ganadoras Totales/Operaciones Totales\n",
       " r_proporcion       0.666667   Ganadoras Totales/Perdedoras Totales\n",
       " r_efectividad_c    0.133333  Ganadoras compras/Operaciones Totales\n",
       " r_efectividad_v    0.266667   Ganadoras ventas/Operaciones Totales,\n",
       " 'df_2_ranking':           Rank\n",
       " Symbol        \n",
       " BITCOIN    1.0\n",
       " USDMXN     1.0\n",
       " USDJPY     1.0\n",
       " ETHEREUM   0.0\n",
       " EURUSD     0.0\n",
       " EURGBP     0.0\n",
       " WTICOUSD   0.0\n",
       " XPDUSD     0.0\n",
       " GBPUSD     0.0\n",
       " XPTUSD     0.0}"
      ]
     },
     "execution_count": 24,
     "metadata": {},
     "output_type": "execute_result"
    }
   ],
   "source": [
    "modulo_1"
   ]
  },
  {
   "cell_type": "markdown",
   "metadata": {},
   "source": [
    "<font color= #6B6B6B> \n",
    "    \n",
    "### Parte 2. Métricas de Atribución al Desempeño\n",
    "\n",
    "</font>"
   ]
  },
  {
   "cell_type": "markdown",
   "metadata": {},
   "source": [
    "El archivo de functions.py contiene las siguientes funciones a continuación necesarios para la construcción del segundo modulo:\n",
    "\n",
    "- **profit_acm_d**: Evolución del capital\n",
    "\n",
    "- **f_evolucion_capital**: Evolución del capital y cambió del profit\n",
    "\n",
    "- **f_estadisticas_mad**: Sharpe ratio, sharpe actualizado, drawdown y drawup"
   ]
  },
  {
   "cell_type": "code",
   "execution_count": 35,
   "metadata": {},
   "outputs": [
    {
     "name": "stderr",
     "output_type": "stream",
     "text": [
      "C:\\Users\\zunigajo\\Documents\\GitHub\\Lab3-Trading\\functions.py:117: SettingWithCopyWarning: \n",
      "A value is trying to be set on a copy of a slice from a DataFrame.\n",
      "Try using .loc[row_indexer,col_indexer] = value instead\n",
      "\n",
      "See the caveats in the documentation: https://pandas.pydata.org/pandas-docs/stable/user_guide/indexing.html#returning-a-view-versus-a-copy\n",
      "  tabla[\"Opentime\"]=pd.to_datetime(tabla[\"Opentime\"])\n",
      "C:\\Users\\zunigajo\\Documents\\GitHub\\Lab3-Trading\\functions.py:120: SettingWithCopyWarning: \n",
      "A value is trying to be set on a copy of a slice from a DataFrame.\n",
      "Try using .loc[row_indexer,col_indexer] = value instead\n",
      "\n",
      "See the caveats in the documentation: https://pandas.pydata.org/pandas-docs/stable/user_guide/indexing.html#returning-a-view-versus-a-copy\n",
      "  tabla[\"Profit_acm_d\"]= tabla[\"Profit\"].cumsum()\n",
      "C:\\Users\\zunigajo\\Documents\\GitHub\\Lab3-Trading\\functions.py:121: SettingWithCopyWarning: \n",
      "A value is trying to be set on a copy of a slice from a DataFrame.\n",
      "Try using .loc[row_indexer,col_indexer] = value instead\n",
      "\n",
      "See the caveats in the documentation: https://pandas.pydata.org/pandas-docs/stable/user_guide/indexing.html#returning-a-view-versus-a-copy\n",
      "  tabla[\"cap_acum\"] = tabla[\"Profit_acm_d\"] + 100000\n",
      "C:\\Users\\zunigajo\\Anaconda3\\lib\\site-packages\\pandas\\core\\series.py:679: RuntimeWarning: invalid value encountered in log\n",
      "  result = getattr(ufunc, method)(*inputs, **kwargs)\n",
      "C:\\Users\\zunigajo\\Documents\\GitHub\\Lab3-Trading\\functions.py:141: RuntimeWarning: divide by zero encountered in double_scalars\n",
      "  shor= (rp - rf) / sigma\n"
     ]
    }
   ],
   "source": [
    "posiciones_2 = f.f_evolucion_capital(posiciones)[0]\n",
    "posiciones_1 = f.f_evolucion_capital(posiciones)[1]\n",
    "posiciones_1 = posiciones_1.reset_index()\n",
    "estadisticas_mad = f.f_estadisticas_mad(posiciones_1)"
   ]
  },
  {
   "cell_type": "markdown",
   "metadata": {},
   "source": [
    "<font color= #6B6B6B> \n",
    "    \n",
    "### Parte 3. Comportamiento en las finanzas\n",
    "\n",
    "</font>"
   ]
  },
  {
   "cell_type": "markdown",
   "metadata": {},
   "source": [
    "El archivo de functions.py contiene las siguientes funciones a continuación necesarios para la construcción del tercer modulo:\n",
    "\n",
    "- **f_be_de** : Será la función con la cual se podrá recibir información sobre la presencia del Disposition Effect en el histórico de operaciones. \n",
    "\n",
    "Nos dara como resultado un dataframe en el que se visualizara las ocurrencias del **Disposition Effect** y nos mostrara cuanto porcentaje de estas estuvieron influenciadas por el status quo y cuantas por la aversión a la pérdida."
   ]
  },
  {
   "cell_type": "code",
   "execution_count": 26,
   "metadata": {},
   "outputs": [
    {
     "data": {
      "text/plain": [
       "True"
      ]
     },
     "execution_count": 26,
     "metadata": {},
     "output_type": "execute_result"
    }
   ],
   "source": [
    "import MetaTrader5 as mt5\n",
    "mt5.initialize()"
   ]
  },
  {
   "cell_type": "code",
   "execution_count": 27,
   "metadata": {},
   "outputs": [],
   "source": [
    "# Utiliza función f_be_de \n",
    "modulo_3 = f.f_be_de(posiciones)"
   ]
  },
  {
   "cell_type": "code",
   "execution_count": 28,
   "metadata": {},
   "outputs": [
    {
     "data": {
      "text/plain": [
       "{'Ocurrencias': {'ocurrencia1': {'Timestamp': Timestamp('2022-03-01 16:33:16'),\n",
       "   'Operaciones': {'Ganadora': {'instrumento': 'BITCOIN',\n",
       "     'volumen': 20,\n",
       "     'sentido': 'sell',\n",
       "     'profit': 6079.5},\n",
       "    'Perdedora': {'instrumento': 'EURUSD',\n",
       "     'volumen': 10,\n",
       "     'sentido': 'buy',\n",
       "     'profit': -218.99999999999142}},\n",
       "   'ratio_cp_profit_acm': -0.04813821602848539,\n",
       "   'ratio_cg_profit_acm': 1.3363300655031434,\n",
       "   'ratio_cp_cg': -0.03602269923513306},\n",
       "  'ocurrencia2': {'Timestamp': Timestamp('2022-03-03 10:24:18'),\n",
       "   'Operaciones': {'Ganadora': {'instrumento': 'USDMXN',\n",
       "     'volumen': 2,\n",
       "     'sentido': 'buy',\n",
       "     'profit': 239.26},\n",
       "    'Perdedora': {'instrumento': 'PLATINUM',\n",
       "     'volumen': 1,\n",
       "     'sentido': 'sell',\n",
       "     'profit': -794.0000000000055}},\n",
       "   'ratio_cp_profit_acm': 0.18136756627111605,\n",
       "   'ratio_cg_profit_acm': -0.05465239786653265,\n",
       "   'ratio_cp_cg': -3.3185655771963782},\n",
       "  'ocurrencia3': {'Timestamp': Timestamp('2022-03-03 22:50:01'),\n",
       "   'Operaciones': {'Ganadora': {'instrumento': 'BITCOIN',\n",
       "     'volumen': 5,\n",
       "     'sentido': 'sell',\n",
       "     'profit': 1986.05},\n",
       "    'Perdedora': {'instrumento': 'EURGBP',\n",
       "     'volumen': 1,\n",
       "     'sentido': 'buy',\n",
       "     'profit': -11.700000000000044}},\n",
       "   'ratio_cp_profit_acm': 0.012330716130052207,\n",
       "   'ratio_cg_profit_acm': -2.0931127153923157,\n",
       "   'ratio_cp_cg': -0.005891090355227735},\n",
       "  'ocurrencia4': {'Timestamp': Timestamp('2022-03-03 22:50:01'),\n",
       "   'Operaciones': {'Ganadora': {'instrumento': 'BITCOIN',\n",
       "     'volumen': 5,\n",
       "     'sentido': 'sell',\n",
       "     'profit': 1986.05},\n",
       "    'Perdedora': {'instrumento': 'EURUSD',\n",
       "     'volumen': 4,\n",
       "     'sentido': 'buy',\n",
       "     'profit': -131.6000000000006}},\n",
       "   'ratio_cp_profit_acm': 0.13869420877904887,\n",
       "   'ratio_cg_profit_acm': -2.0931127153923157,\n",
       "   'ratio_cp_cg': -0.06626217869640774},\n",
       "  'ocurrencia5': {'Timestamp': Timestamp('2022-03-03 22:50:01'),\n",
       "   'Operaciones': {'Ganadora': {'instrumento': 'BITCOIN',\n",
       "     'volumen': 5,\n",
       "     'sentido': 'sell',\n",
       "     'profit': 1986.05},\n",
       "    'Perdedora': {'instrumento': 'PALLADIUM',\n",
       "     'volumen': 2,\n",
       "     'sentido': 'sell',\n",
       "     'profit': -9257.999999999993}},\n",
       "   'ratio_cp_profit_acm': 9.757074353164343,\n",
       "   'ratio_cg_profit_acm': -2.0931127153923157,\n",
       "   'ratio_cp_cg': -4.66151406057249},\n",
       "  'ocurrencia6': {'Timestamp': Timestamp('2022-03-04 02:23:51'),\n",
       "   'Operaciones': {'Ganadora': {'instrumento': 'USDJPY',\n",
       "     'volumen': 3,\n",
       "     'sentido': 'sell',\n",
       "     'profit': 241.88},\n",
       "    'Perdedora': {'instrumento': 'EURGBP',\n",
       "     'volumen': 1,\n",
       "     'sentido': 'buy',\n",
       "     'profit': -15.399999999999858}},\n",
       "   'ratio_cp_profit_acm': 0.0015355515072833857,\n",
       "   'ratio_cg_profit_acm': -0.024118129778033036,\n",
       "   'ratio_cp_cg': -0.06366793451298106},\n",
       "  'ocurrencia7': {'Timestamp': Timestamp('2022-03-04 02:23:51'),\n",
       "   'Operaciones': {'Ganadora': {'instrumento': 'USDJPY',\n",
       "     'volumen': 3,\n",
       "     'sentido': 'sell',\n",
       "     'profit': 241.88},\n",
       "    'Perdedora': {'instrumento': 'PALLADIUM',\n",
       "     'volumen': 2,\n",
       "     'sentido': 'sell',\n",
       "     'profit': -6007.999999999993}},\n",
       "   'ratio_cp_profit_acm': 0.5990645101141984,\n",
       "   'ratio_cg_profit_acm': -0.024118129778033036,\n",
       "   'ratio_cp_cg': -24.838763022986576}},\n",
       " 'Resultados': {'dataframe':    ocurrencias  status_quo  aversion_perdida  sensibilidad_decreciente\n",
       "  0            7           4                 3                         0}}"
      ]
     },
     "execution_count": 28,
     "metadata": {},
     "output_type": "execute_result"
    }
   ],
   "source": [
    "modulo_3"
   ]
  },
  {
   "cell_type": "markdown",
   "metadata": {},
   "source": [
    "# <font color= #6B6B6B> 5. Another particular Process  </font>"
   ]
  },
  {
   "cell_type": "markdown",
   "metadata": {},
   "source": [
    "<hr style=\"border:0.02in solid gray\"> </hr>"
   ]
  },
  {
   "cell_type": "code",
   "execution_count": 4,
   "metadata": {},
   "outputs": [],
   "source": [
    "# DELETE THIS CELL IN YOUR FILE\n",
    "\n",
    "# Another particular process that is relevant for the work. Normally, you include between 2 and 5 at the most."
   ]
  },
  {
   "cell_type": "markdown",
   "metadata": {},
   "source": [
    "<br>"
   ]
  },
  {
   "cell_type": "markdown",
   "metadata": {},
   "source": [
    "# <font color= #6B6B6B> <font size = 6> 5. Results </font>"
   ]
  },
  {
   "cell_type": "markdown",
   "metadata": {},
   "source": [
    "<hr style=\"border:0.02in solid gray\"> </hr>"
   ]
  },
  {
   "cell_type": "markdown",
   "metadata": {},
   "source": [
    "<br>"
   ]
  },
  {
   "cell_type": "markdown",
   "metadata": {},
   "source": [
    "## <font color= #6B6B6B> 5.1 Resultados de parte 1 </font>"
   ]
  },
  {
   "cell_type": "markdown",
   "metadata": {},
   "source": [
    "Los resultados de el primer modulo son como el titulo lo menciona descriptivos, solo nos habla de la actividad y desempeño que tuvimos haciendo trading en el laboratio pasado, estas medidas nos serviran más adelante en este laboratorio para poder hacer comparaciones de la actividad de trading, tambien en la tabla siguiente se muestra el ranking por instrumento, es decir en que instrumentos de la plataforma nos fue mejor y en cuales peor."
   ]
  },
  {
   "cell_type": "code",
   "execution_count": 13,
   "metadata": {},
   "outputs": [
    {
     "data": {
      "text/html": [
       "<div>\n",
       "<style scoped>\n",
       "    .dataframe tbody tr th:only-of-type {\n",
       "        vertical-align: middle;\n",
       "    }\n",
       "\n",
       "    .dataframe tbody tr th {\n",
       "        vertical-align: top;\n",
       "    }\n",
       "\n",
       "    .dataframe thead th {\n",
       "        text-align: right;\n",
       "    }\n",
       "</style>\n",
       "<table border=\"1\" class=\"dataframe\">\n",
       "  <thead>\n",
       "    <tr style=\"text-align: right;\">\n",
       "      <th></th>\n",
       "      <th>Valor</th>\n",
       "      <th>Descripcion</th>\n",
       "    </tr>\n",
       "    <tr>\n",
       "      <th>Medida</th>\n",
       "      <th></th>\n",
       "      <th></th>\n",
       "    </tr>\n",
       "  </thead>\n",
       "  <tbody>\n",
       "    <tr>\n",
       "      <th>Ops totales</th>\n",
       "      <td>15.000000</td>\n",
       "      <td>Operaciones totales</td>\n",
       "    </tr>\n",
       "    <tr>\n",
       "      <th>Ganadoras</th>\n",
       "      <td>6.000000</td>\n",
       "      <td>Operaciones ganadoras</td>\n",
       "    </tr>\n",
       "    <tr>\n",
       "      <th>Ganadoras_c</th>\n",
       "      <td>2.000000</td>\n",
       "      <td>Operaciones ganadoras de compra</td>\n",
       "    </tr>\n",
       "    <tr>\n",
       "      <th>Ganadoras_v</th>\n",
       "      <td>4.000000</td>\n",
       "      <td>Operaciones ganadoras de venta</td>\n",
       "    </tr>\n",
       "    <tr>\n",
       "      <th>Perdedoras</th>\n",
       "      <td>9.000000</td>\n",
       "      <td>Operaciones perdedoras</td>\n",
       "    </tr>\n",
       "    <tr>\n",
       "      <th>Perdedoras_c</th>\n",
       "      <td>4.000000</td>\n",
       "      <td>Operaciones perdedoras de compra</td>\n",
       "    </tr>\n",
       "    <tr>\n",
       "      <th>Perdedoras_v</th>\n",
       "      <td>5.000000</td>\n",
       "      <td>Operaciones perdedoras de venta</td>\n",
       "    </tr>\n",
       "    <tr>\n",
       "      <th>Mediana(Profit)</th>\n",
       "      <td>-266.510000</td>\n",
       "      <td>Mediana de profit de operaciones</td>\n",
       "    </tr>\n",
       "    <tr>\n",
       "      <th>Mediana(Pips)</th>\n",
       "      <td>-18.900000</td>\n",
       "      <td>Mediana de pips de operaciones</td>\n",
       "    </tr>\n",
       "    <tr>\n",
       "      <th>r_efectividad</th>\n",
       "      <td>0.400000</td>\n",
       "      <td>Ganadoras Totales/Operaciones Totales</td>\n",
       "    </tr>\n",
       "    <tr>\n",
       "      <th>r_proporcion</th>\n",
       "      <td>0.666667</td>\n",
       "      <td>Ganadoras Totales/Perdedoras Totales</td>\n",
       "    </tr>\n",
       "    <tr>\n",
       "      <th>r_efectividad_c</th>\n",
       "      <td>0.133333</td>\n",
       "      <td>Ganadoras compras/Operaciones Totales</td>\n",
       "    </tr>\n",
       "    <tr>\n",
       "      <th>r_efectividad_v</th>\n",
       "      <td>0.266667</td>\n",
       "      <td>Ganadoras ventas/Operaciones Totales</td>\n",
       "    </tr>\n",
       "  </tbody>\n",
       "</table>\n",
       "</div>"
      ],
      "text/plain": [
       "                      Valor                            Descripcion\n",
       "Medida                                                            \n",
       "Ops totales       15.000000                    Operaciones totales\n",
       "Ganadoras          6.000000                  Operaciones ganadoras\n",
       "Ganadoras_c        2.000000        Operaciones ganadoras de compra\n",
       "Ganadoras_v        4.000000         Operaciones ganadoras de venta\n",
       "Perdedoras         9.000000                 Operaciones perdedoras\n",
       "Perdedoras_c       4.000000       Operaciones perdedoras de compra\n",
       "Perdedoras_v       5.000000        Operaciones perdedoras de venta\n",
       "Mediana(Profit) -266.510000       Mediana de profit de operaciones\n",
       "Mediana(Pips)    -18.900000         Mediana de pips de operaciones\n",
       "r_efectividad      0.400000  Ganadoras Totales/Operaciones Totales\n",
       "r_proporcion       0.666667   Ganadoras Totales/Perdedoras Totales\n",
       "r_efectividad_c    0.133333  Ganadoras compras/Operaciones Totales\n",
       "r_efectividad_v    0.266667   Ganadoras ventas/Operaciones Totales"
      ]
     },
     "execution_count": 13,
     "metadata": {},
     "output_type": "execute_result"
    }
   ],
   "source": [
    "modulo_1[\"df_1_tabla\"]"
   ]
  },
  {
   "cell_type": "markdown",
   "metadata": {},
   "source": [
    "Los resultados se muestran en decimales por lo que 1 muestra una efectividad del 100%"
   ]
  },
  {
   "cell_type": "code",
   "execution_count": 14,
   "metadata": {},
   "outputs": [
    {
     "data": {
      "text/html": [
       "<div>\n",
       "<style scoped>\n",
       "    .dataframe tbody tr th:only-of-type {\n",
       "        vertical-align: middle;\n",
       "    }\n",
       "\n",
       "    .dataframe tbody tr th {\n",
       "        vertical-align: top;\n",
       "    }\n",
       "\n",
       "    .dataframe thead th {\n",
       "        text-align: right;\n",
       "    }\n",
       "</style>\n",
       "<table border=\"1\" class=\"dataframe\">\n",
       "  <thead>\n",
       "    <tr style=\"text-align: right;\">\n",
       "      <th></th>\n",
       "      <th>Rank</th>\n",
       "    </tr>\n",
       "    <tr>\n",
       "      <th>Symbol</th>\n",
       "      <th></th>\n",
       "    </tr>\n",
       "  </thead>\n",
       "  <tbody>\n",
       "    <tr>\n",
       "      <th>BITCOIN</th>\n",
       "      <td>1.0</td>\n",
       "    </tr>\n",
       "    <tr>\n",
       "      <th>USDMXN</th>\n",
       "      <td>1.0</td>\n",
       "    </tr>\n",
       "    <tr>\n",
       "      <th>USDJPY</th>\n",
       "      <td>1.0</td>\n",
       "    </tr>\n",
       "    <tr>\n",
       "      <th>ETHEREUM</th>\n",
       "      <td>0.0</td>\n",
       "    </tr>\n",
       "    <tr>\n",
       "      <th>EURUSD</th>\n",
       "      <td>0.0</td>\n",
       "    </tr>\n",
       "    <tr>\n",
       "      <th>EURGBP</th>\n",
       "      <td>0.0</td>\n",
       "    </tr>\n",
       "    <tr>\n",
       "      <th>WTICOUSD</th>\n",
       "      <td>0.0</td>\n",
       "    </tr>\n",
       "    <tr>\n",
       "      <th>XPDUSD</th>\n",
       "      <td>0.0</td>\n",
       "    </tr>\n",
       "    <tr>\n",
       "      <th>GBPUSD</th>\n",
       "      <td>0.0</td>\n",
       "    </tr>\n",
       "    <tr>\n",
       "      <th>XPTUSD</th>\n",
       "      <td>0.0</td>\n",
       "    </tr>\n",
       "  </tbody>\n",
       "</table>\n",
       "</div>"
      ],
      "text/plain": [
       "          Rank\n",
       "Symbol        \n",
       "BITCOIN    1.0\n",
       "USDMXN     1.0\n",
       "USDJPY     1.0\n",
       "ETHEREUM   0.0\n",
       "EURUSD     0.0\n",
       "EURGBP     0.0\n",
       "WTICOUSD   0.0\n",
       "XPDUSD     0.0\n",
       "GBPUSD     0.0\n",
       "XPTUSD     0.0"
      ]
     },
     "execution_count": 14,
     "metadata": {},
     "output_type": "execute_result"
    }
   ],
   "source": [
    "modulo_1[\"df_2_ranking\"]"
   ]
  },
  {
   "cell_type": "markdown",
   "metadata": {},
   "source": [
    "<br>"
   ]
  },
  {
   "cell_type": "markdown",
   "metadata": {},
   "source": [
    "## <font color= #6B6B6B> 5.2 Resultados de parte 2 </font>"
   ]
  },
  {
   "cell_type": "markdown",
   "metadata": {},
   "source": [
    "Los resultados de la parte 2 nos habla de la historia que tuvo nuestro portafolio y que tan eficiente fue a traves de la medida del sharpe ratio que mide la cantidad de retorno esperada y la volatilidad que tiene un portafolio, por lo que es un gran indicador. La primera tabla muestra como mi portafolio cerró cada dia en los que tuve operaciones, mientras que la segunda muestra el capital y ganancia acumulada que tuve cada que abría una operación."
   ]
  },
  {
   "cell_type": "code",
   "execution_count": 32,
   "metadata": {},
   "outputs": [
    {
     "data": {
      "text/html": [
       "<div>\n",
       "<style scoped>\n",
       "    .dataframe tbody tr th:only-of-type {\n",
       "        vertical-align: middle;\n",
       "    }\n",
       "\n",
       "    .dataframe tbody tr th {\n",
       "        vertical-align: top;\n",
       "    }\n",
       "\n",
       "    .dataframe thead th {\n",
       "        text-align: right;\n",
       "    }\n",
       "</style>\n",
       "<table border=\"1\" class=\"dataframe\">\n",
       "  <thead>\n",
       "    <tr style=\"text-align: right;\">\n",
       "      <th></th>\n",
       "      <th>Profit</th>\n",
       "    </tr>\n",
       "    <tr>\n",
       "      <th>Opentime</th>\n",
       "      <th></th>\n",
       "    </tr>\n",
       "  </thead>\n",
       "  <tbody>\n",
       "    <tr>\n",
       "      <th>2022-03-01</th>\n",
       "      <td>4549.40</td>\n",
       "    </tr>\n",
       "    <tr>\n",
       "      <th>2022-03-02</th>\n",
       "      <td>0.00</td>\n",
       "    </tr>\n",
       "    <tr>\n",
       "      <th>2022-03-03</th>\n",
       "      <td>-14578.37</td>\n",
       "    </tr>\n",
       "  </tbody>\n",
       "</table>\n",
       "</div>"
      ],
      "text/plain": [
       "              Profit\n",
       "Opentime            \n",
       "2022-03-01   4549.40\n",
       "2022-03-02      0.00\n",
       "2022-03-03 -14578.37"
      ]
     },
     "execution_count": 32,
     "metadata": {},
     "output_type": "execute_result"
    }
   ],
   "source": [
    "posiciones_2"
   ]
  },
  {
   "cell_type": "code",
   "execution_count": 34,
   "metadata": {},
   "outputs": [
    {
     "data": {
      "text/html": [
       "<div>\n",
       "<style scoped>\n",
       "    .dataframe tbody tr th:only-of-type {\n",
       "        vertical-align: middle;\n",
       "    }\n",
       "\n",
       "    .dataframe tbody tr th {\n",
       "        vertical-align: top;\n",
       "    }\n",
       "\n",
       "    .dataframe thead th {\n",
       "        text-align: right;\n",
       "    }\n",
       "</style>\n",
       "<table border=\"1\" class=\"dataframe\">\n",
       "  <thead>\n",
       "    <tr style=\"text-align: right;\">\n",
       "      <th></th>\n",
       "      <th>Profit</th>\n",
       "      <th>Profit_acm_d</th>\n",
       "      <th>cap_acum</th>\n",
       "    </tr>\n",
       "    <tr>\n",
       "      <th>Opentime</th>\n",
       "      <th></th>\n",
       "      <th></th>\n",
       "      <th></th>\n",
       "    </tr>\n",
       "  </thead>\n",
       "  <tbody>\n",
       "    <tr>\n",
       "      <th>2022-03-01 02:25:12</th>\n",
       "      <td>-520.10</td>\n",
       "      <td>-520.10</td>\n",
       "      <td>99479.90</td>\n",
       "    </tr>\n",
       "    <tr>\n",
       "      <th>2022-03-01 15:24:12</th>\n",
       "      <td>-1010.00</td>\n",
       "      <td>-1530.10</td>\n",
       "      <td>98469.90</td>\n",
       "    </tr>\n",
       "    <tr>\n",
       "      <th>2022-03-01 15:45:08</th>\n",
       "      <td>6079.50</td>\n",
       "      <td>4549.40</td>\n",
       "      <td>104549.40</td>\n",
       "    </tr>\n",
       "    <tr>\n",
       "      <th>2022-03-03 08:07:11</th>\n",
       "      <td>-266.51</td>\n",
       "      <td>4282.89</td>\n",
       "      <td>104282.89</td>\n",
       "    </tr>\n",
       "    <tr>\n",
       "      <th>2022-03-03 08:23:08</th>\n",
       "      <td>-6115.00</td>\n",
       "      <td>-1832.11</td>\n",
       "      <td>98167.89</td>\n",
       "    </tr>\n",
       "    <tr>\n",
       "      <th>2022-03-03 08:37:33</th>\n",
       "      <td>-2596.00</td>\n",
       "      <td>-4428.11</td>\n",
       "      <td>95571.89</td>\n",
       "    </tr>\n",
       "    <tr>\n",
       "      <th>2022-03-03 08:51:02</th>\n",
       "      <td>-189.00</td>\n",
       "      <td>-4617.11</td>\n",
       "      <td>95382.89</td>\n",
       "    </tr>\n",
       "    <tr>\n",
       "      <th>2022-03-03 08:57:11</th>\n",
       "      <td>239.26</td>\n",
       "      <td>-4377.85</td>\n",
       "      <td>95622.15</td>\n",
       "    </tr>\n",
       "    <tr>\n",
       "      <th>2022-03-03 08:59:04</th>\n",
       "      <td>3684.50</td>\n",
       "      <td>-693.35</td>\n",
       "      <td>99306.65</td>\n",
       "    </tr>\n",
       "    <tr>\n",
       "      <th>2022-03-03 09:00:40</th>\n",
       "      <td>-1082.00</td>\n",
       "      <td>-1775.35</td>\n",
       "      <td>98224.65</td>\n",
       "    </tr>\n",
       "    <tr>\n",
       "      <th>2022-03-03 09:12:15</th>\n",
       "      <td>93.45</td>\n",
       "      <td>-1681.90</td>\n",
       "      <td>98318.10</td>\n",
       "    </tr>\n",
       "    <tr>\n",
       "      <th>2022-03-03 20:23:53</th>\n",
       "      <td>-1253.00</td>\n",
       "      <td>-2934.90</td>\n",
       "      <td>97065.10</td>\n",
       "    </tr>\n",
       "    <tr>\n",
       "      <th>2022-03-03 20:33:29</th>\n",
       "      <td>1986.05</td>\n",
       "      <td>-948.85</td>\n",
       "      <td>99051.15</td>\n",
       "    </tr>\n",
       "    <tr>\n",
       "      <th>2022-03-03 20:34:49</th>\n",
       "      <td>-9322.00</td>\n",
       "      <td>-10270.85</td>\n",
       "      <td>89729.15</td>\n",
       "    </tr>\n",
       "    <tr>\n",
       "      <th>2022-03-03 20:35:54</th>\n",
       "      <td>241.88</td>\n",
       "      <td>-10028.97</td>\n",
       "      <td>89971.03</td>\n",
       "    </tr>\n",
       "  </tbody>\n",
       "</table>\n",
       "</div>"
      ],
      "text/plain": [
       "                      Profit  Profit_acm_d   cap_acum\n",
       "Opentime                                             \n",
       "2022-03-01 02:25:12  -520.10       -520.10   99479.90\n",
       "2022-03-01 15:24:12 -1010.00      -1530.10   98469.90\n",
       "2022-03-01 15:45:08  6079.50       4549.40  104549.40\n",
       "2022-03-03 08:07:11  -266.51       4282.89  104282.89\n",
       "2022-03-03 08:23:08 -6115.00      -1832.11   98167.89\n",
       "2022-03-03 08:37:33 -2596.00      -4428.11   95571.89\n",
       "2022-03-03 08:51:02  -189.00      -4617.11   95382.89\n",
       "2022-03-03 08:57:11   239.26      -4377.85   95622.15\n",
       "2022-03-03 08:59:04  3684.50       -693.35   99306.65\n",
       "2022-03-03 09:00:40 -1082.00      -1775.35   98224.65\n",
       "2022-03-03 09:12:15    93.45      -1681.90   98318.10\n",
       "2022-03-03 20:23:53 -1253.00      -2934.90   97065.10\n",
       "2022-03-03 20:33:29  1986.05       -948.85   99051.15\n",
       "2022-03-03 20:34:49 -9322.00     -10270.85   89729.15\n",
       "2022-03-03 20:35:54   241.88     -10028.97   89971.03"
      ]
     },
     "execution_count": 34,
     "metadata": {},
     "output_type": "execute_result"
    }
   ],
   "source": [
    "posiciones_1"
   ]
  },
  {
   "cell_type": "code",
   "execution_count": 36,
   "metadata": {},
   "outputs": [
    {
     "data": {
      "text/html": [
       "<div>\n",
       "<style scoped>\n",
       "    .dataframe tbody tr th:only-of-type {\n",
       "        vertical-align: middle;\n",
       "    }\n",
       "\n",
       "    .dataframe tbody tr th {\n",
       "        vertical-align: top;\n",
       "    }\n",
       "\n",
       "    .dataframe thead th {\n",
       "        text-align: right;\n",
       "    }\n",
       "</style>\n",
       "<table border=\"1\" class=\"dataframe\">\n",
       "  <thead>\n",
       "    <tr style=\"text-align: right;\">\n",
       "      <th></th>\n",
       "      <th>metrica</th>\n",
       "      <th></th>\n",
       "      <th>Valor</th>\n",
       "      <th>descripcion</th>\n",
       "    </tr>\n",
       "  </thead>\n",
       "  <tbody>\n",
       "    <tr>\n",
       "      <th>0</th>\n",
       "      <td>sharpe_original</td>\n",
       "      <td>Cantidad</td>\n",
       "      <td>inf</td>\n",
       "      <td>Sharpe Ratio Fórmula Original</td>\n",
       "    </tr>\n",
       "    <tr>\n",
       "      <th>1</th>\n",
       "      <td>sharpe_actualizado</td>\n",
       "      <td>Cantidad</td>\n",
       "      <td>NaN</td>\n",
       "      <td>Sharpe Ratio Fórmula Ajustada</td>\n",
       "    </tr>\n",
       "    <tr>\n",
       "      <th>2</th>\n",
       "      <td>drawdown_capi</td>\n",
       "      <td>Fecha Inicial</td>\n",
       "      <td>2022-03-01 15:45:08</td>\n",
       "      <td>Fecha inicial del DrawDown de Capital</td>\n",
       "    </tr>\n",
       "    <tr>\n",
       "      <th>3</th>\n",
       "      <td>drawdown_capi</td>\n",
       "      <td>Fecha Final</td>\n",
       "      <td>2022-03-03 20:34:49</td>\n",
       "      <td>Fecha final del DrawDown de Capital</td>\n",
       "    </tr>\n",
       "    <tr>\n",
       "      <th>4</th>\n",
       "      <td>drawdown_capi</td>\n",
       "      <td>DrawDown $ (capital)</td>\n",
       "      <td>-10270.9</td>\n",
       "      <td>Máxima pérdida flotante registrada</td>\n",
       "    </tr>\n",
       "    <tr>\n",
       "      <th>5</th>\n",
       "      <td>drawup_capi</td>\n",
       "      <td>Fecha Inicial</td>\n",
       "      <td>2022-03-01 02:25:12</td>\n",
       "      <td>Fecha inicial del DrawUp de Capital</td>\n",
       "    </tr>\n",
       "    <tr>\n",
       "      <th>6</th>\n",
       "      <td>drawup_capi</td>\n",
       "      <td>Fecha Final</td>\n",
       "      <td>2022-03-01 15:45:08</td>\n",
       "      <td>Fecha final del DrawUp de Capital</td>\n",
       "    </tr>\n",
       "    <tr>\n",
       "      <th>7</th>\n",
       "      <td>drawup_capi</td>\n",
       "      <td>DrawDown $ (capital)</td>\n",
       "      <td>4549.4</td>\n",
       "      <td>Máxima ganancia flotante registrada</td>\n",
       "    </tr>\n",
       "  </tbody>\n",
       "</table>\n",
       "</div>"
      ],
      "text/plain": [
       "              metrica                                      Valor  \\\n",
       "0     sharpe_original              Cantidad                  inf   \n",
       "1  sharpe_actualizado              Cantidad                  NaN   \n",
       "2       drawdown_capi         Fecha Inicial  2022-03-01 15:45:08   \n",
       "3       drawdown_capi           Fecha Final  2022-03-03 20:34:49   \n",
       "4       drawdown_capi  DrawDown $ (capital)             -10270.9   \n",
       "5         drawup_capi         Fecha Inicial  2022-03-01 02:25:12   \n",
       "6         drawup_capi           Fecha Final  2022-03-01 15:45:08   \n",
       "7         drawup_capi  DrawDown $ (capital)               4549.4   \n",
       "\n",
       "                             descripcion  \n",
       "0          Sharpe Ratio Fórmula Original  \n",
       "1          Sharpe Ratio Fórmula Ajustada  \n",
       "2  Fecha inicial del DrawDown de Capital  \n",
       "3    Fecha final del DrawDown de Capital  \n",
       "4     Máxima pérdida flotante registrada  \n",
       "5    Fecha inicial del DrawUp de Capital  \n",
       "6      Fecha final del DrawUp de Capital  \n",
       "7    Máxima ganancia flotante registrada  "
      ]
     },
     "execution_count": 36,
     "metadata": {},
     "output_type": "execute_result"
    }
   ],
   "source": [
    "estadisticas_mad"
   ]
  },
  {
   "cell_type": "markdown",
   "metadata": {},
   "source": [
    "## <font color= #6B6B6B> 5.3 Resultados de parte 3 </font>"
   ]
  },
  {
   "cell_type": "markdown",
   "metadata": {},
   "source": [
    "La parte 3 es sobre behavioral finance, de lo que se platicó en la introducción de este notebook, los resultados que encontramos son que dentro de la actividad que tuvimos de trading se estuvo presente el Disposition Effect. Para eso fue necesario buscar cuando cerrabamos las operaciones con ganancia si se encontraban otras posiciones abiertas y que estas se encontraran en pérdidas, este sesgo es que tendemos a cerrar las operaciones que se encuentran positivas y a dejar abiertas las que se encuentran en balance negativo."
   ]
  },
  {
   "cell_type": "code",
   "execution_count": 17,
   "metadata": {},
   "outputs": [
    {
     "data": {
      "text/html": [
       "<div>\n",
       "<style scoped>\n",
       "    .dataframe tbody tr th:only-of-type {\n",
       "        vertical-align: middle;\n",
       "    }\n",
       "\n",
       "    .dataframe tbody tr th {\n",
       "        vertical-align: top;\n",
       "    }\n",
       "\n",
       "    .dataframe thead th {\n",
       "        text-align: right;\n",
       "    }\n",
       "</style>\n",
       "<table border=\"1\" class=\"dataframe\">\n",
       "  <thead>\n",
       "    <tr style=\"text-align: right;\">\n",
       "      <th></th>\n",
       "      <th>ocurrencias</th>\n",
       "      <th>status_quo</th>\n",
       "      <th>aversion_perdida</th>\n",
       "      <th>sensibilidad_decreciente</th>\n",
       "    </tr>\n",
       "  </thead>\n",
       "  <tbody>\n",
       "    <tr>\n",
       "      <th>0</th>\n",
       "      <td>7</td>\n",
       "      <td>4</td>\n",
       "      <td>3</td>\n",
       "      <td>0</td>\n",
       "    </tr>\n",
       "  </tbody>\n",
       "</table>\n",
       "</div>"
      ],
      "text/plain": [
       "   ocurrencias  status_quo  aversion_perdida  sensibilidad_decreciente\n",
       "0            7           4                 3                         0"
      ]
     },
     "execution_count": 17,
     "metadata": {},
     "output_type": "execute_result"
    }
   ],
   "source": [
    "modulo_3[\"Resultados\"][\"dataframe\"]"
   ]
  },
  {
   "cell_type": "markdown",
   "metadata": {},
   "source": [
    "## <font color= #6B6B6B> 5.4 Gráficas </font>"
   ]
  },
  {
   "cell_type": "code",
   "execution_count": null,
   "metadata": {},
   "outputs": [],
   "source": []
  },
  {
   "cell_type": "markdown",
   "metadata": {},
   "source": [
    "# <font color= #6B6B6B> <font size = 6> 6. References </font>"
   ]
  },
  {
   "cell_type": "markdown",
   "metadata": {},
   "source": [
    "<hr style=\"border:0.02in solid gray\"> </hr>"
   ]
  },
  {
   "cell_type": "code",
   "execution_count": 8,
   "metadata": {},
   "outputs": [],
   "source": [
    "# DELETE THIS CELL IN YOUR FILE\n",
    "\n",
    "# Citations, and other references you are using.\n",
    "\n",
    "# DO INCLUDE THE FOLLOWING CITATION FOR THIS TEMPLATE"
   ]
  },
  {
   "cell_type": "markdown",
   "metadata": {},
   "source": [
    "[1] Munnoz, 2020. Python project template. https://github.com/iffranciscome/python-project. (2021)."
   ]
  },
  {
   "cell_type": "markdown",
   "metadata": {},
   "source": [
    "<br>"
   ]
  }
 ],
 "metadata": {
  "kernelspec": {
   "display_name": "Python 3",
   "language": "python",
   "name": "python3"
  },
  "language_info": {
   "codemirror_mode": {
    "name": "ipython",
    "version": 3
   },
   "file_extension": ".py",
   "mimetype": "text/x-python",
   "name": "python",
   "nbconvert_exporter": "python",
   "pygments_lexer": "ipython3",
   "version": "3.7.6"
  }
 },
 "nbformat": 4,
 "nbformat_minor": 4
}

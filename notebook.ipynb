{
 "cells": [
  {
   "cell_type": "markdown",
   "metadata": {},
   "source": [
    "<center> <img src=\"http://oci02.img.iteso.mx/identidad_de_instancia_2018/ITESO/Logos%20ITESO/Logo-ITESO-Principal.jpg\" align=\"center\" width=\"960\" height=\"480\"/> </center>"
   ]
  },
  {
   "cell_type": "markdown",
   "metadata": {},
   "source": [
    "<center><font color=#555555><font size=6> MAF1731 - Microestructura y Sistemas de Trading </font> <br> <br>\n",
    "    \n",
    "<center><font color=#555555><font size=5> Ingeniería Financiera </font> <br> <br> <br> <br>\n",
    "\n",
    "<center><font color=#555555><font size=5> Estudiantes: Berlín l. Preciado Escalera, Jorge Zuñiga y Luis Enrique</font> <br> <br>\n",
    "   \n",
    "<center> <font color= #555555> <font size = 4> Primavera 2022 </a> | <font color= #555555> <font size = 4> Repository: <a href='https://github.com/berlinpreciado21/MyST_LAB_3_E1'>Link</a></font>"
   ]
  },
  {
   "cell_type": "markdown",
   "metadata": {},
   "source": [
    "<hr style=\"border:0.02in solid gray\"> </hr>"
   ]
  },
  {
   "cell_type": "markdown",
   "metadata": {},
   "source": [
    "<center> <font color= #555555> <font size = 6> Laboratorio 3: Behavioral Finance </font> <br> <br> <font color= #555555> <font size = 3> El propósito principal de este laboratorio es  elaborar herramientas para el análisis del desempeño de la actividad de trading en forex, desde el punto de vista de la cuenta y desde el punto de vista de la persona que opera la cuenta (trader) </font>"
   ]
  },
  {
   "cell_type": "markdown",
   "metadata": {},
   "source": [
    "<hr style=\"border:0.02in solid gray\"> </hr>"
   ]
  },
  {
   "cell_type": "markdown",
   "metadata": {},
   "source": [
    "<br>"
   ]
  },
  {
   "cell_type": "markdown",
   "metadata": {},
   "source": [
    "<font color= #555555> <font size = 4> Resumen </font>"
   ]
  },
  {
   "cell_type": "markdown",
   "metadata": {},
   "source": [
    "<font color= #6B6B6B> <font size = 2> El siguiente trabajo será realizado con el objetivo de identificar los sesgos que pudimos tener al realizar distintas operaciones durante la practica de trading en forex. Para esto, se realizaron distintos funciones con el proposito de realizar **estadísticas descriptivas, métricas de atribución al desempeño y sesgo cognitivo.** </font>"
   ]
  },
  {
   "cell_type": "markdown",
   "metadata": {},
   "source": [
    "<br>"
   ]
  },
  {
   "cell_type": "markdown",
   "metadata": {},
   "source": [
    "# <font color= #6B6B6B> <font size = 6> 1. Introducción </font>"
   ]
  },
  {
   "cell_type": "markdown",
   "metadata": {},
   "source": [
    "<hr style=\"border:0.02in solid gray\"> </hr>"
   ]
  },
  {
   "cell_type": "markdown",
   "metadata": {},
   "source": [
    "Las personas actúan en los mercados de forma irracional, y el *comportamiento en las finanzas* trata de entender esta irracionalidad, y ser capaces de medir este comportamiento. Al igual que los mercados no son eficientes, los inversionistas que participan en los mismos tampoco lo son, ya que no siempre se dispone de toda la información necesaria para tomar la mejor decisión y no siempre se toma la decisión óptima, por lo tanto, el inversor busca sentirse bien ante una decisión. Los inversionistas al ser seres emocionales y con una racionalidad limitada.\n",
    "\n",
    "La mayoría de nosotros puede cohincidir en que tomamos decisiones concientes o inconsientes. Pero quizá estas decisiones cualquiera sea su modalidad pueden estar sesgadas, es decir existe un peso desproporcionado a favor o en contra de una cosa, persona o grupo en comparación con otra, generalmente de una manera que se considera injusta.\n",
    "\n",
    "Los seres humanos hemos ido adaptando mecanismos de respuesta y defensa ante diferentes estímulos y situaciones. Son resortes que saltan de forma automática y que están muy arraigados en nuestro cerebro. La psicología los denomina sesgos cognitivos, y el del optimismo es uno de los más activos y presentes en nuestros actos y pensamientos, aunque muchas veces no nos demos ni cuenta.Cada ser humano es diferente y por ende su proceso para tomar decisiones, pero existe la posibilidad de analiar y encontrar patrones que determinen dichos sesgos en donde el primer paso para corregirlos es ser conciente de ello.\n",
    "\n",
    "Por lo tanto, quisimos realizar un analisis del cómo el sesgo cognitivo influyó en nuestras ganancias y perdidas al realizar la practica de trading en forex. En el sigiuiente trabajo se realizarán distintas métricas para la interpretación de los resultados.\n"
   ]
  },
  {
   "cell_type": "markdown",
   "metadata": {},
   "source": [
    "<br>"
   ]
  },
  {
   "cell_type": "markdown",
   "metadata": {},
   "source": [
    "# <font color= #6B6B6B> 2. Librerías y dependencias </font>"
   ]
  },
  {
   "cell_type": "markdown",
   "metadata": {},
   "source": [
    "<hr style=\"border:0.02in solid gray\"> </hr>"
   ]
  },
  {
   "cell_type": "markdown",
   "metadata": {},
   "source": [
    "<font color= #6E6E6E>\n",
    "    \n",
    "## 2.1 Librerias\n",
    "\n",
    "Para correr este notebook es necesario tener instaladas las siguientes librerías :\n",
    "\n",
    "pandas >= 1.1.1\n",
    "\n",
    "numpy >= 1.19.1\n",
    "\n",
    "jupyter >= 1.0.0\n",
    "\n",
    "statistics\n",
    "\n",
    "MetaTrader5 >= 5.0.34\n",
    "\n",
    "datetime\n",
    "\n",
    "## 2.2 Dependencias\n",
    "    \n",
    "Para correr este notebook es necesario contar con los siguientes archivos y dependencias externas:\n",
    "\n",
    "files/historicos_berlin.xlsx : Historicos de Berlin \n",
    "    \n",
    "files/historicos_jorge.xlsx : Historicos de Jorge\n",
    "    \n",
    "files/historicos_luis.xlsx : Historicos de Luis Enrique\n",
    "    \n",
    "</font>"
   ]
  },
  {
   "cell_type": "markdown",
   "metadata": {},
   "source": [
    "<font color= #6E6E6E>\n",
    "    \n",
    "## 2.3 Instalación de paqueterias\n",
    "\n",
    "</font>\n"
   ]
  },
  {
   "cell_type": "code",
   "execution_count": null,
   "metadata": {},
   "outputs": [],
   "source": []
  },
  {
   "cell_type": "markdown",
   "metadata": {},
   "source": [
    "<font color= red> DELETE THIS CELL FROM YOUR FILE</font>\n",
    "\n",
    "- A \"cell magic command\" to hide output of the cell:\n",
    "> %%capture\n",
    "\n",
    "- Not recommended:\n",
    "> !pip install -r requirements.txt \n",
    "\n",
    "- Use these two lines instead:\n",
    "\n",
    "> import sys\n",
    "<br>\n",
    "> !{sys.executable} -m pip install -r requirements.txt"
   ]
  },
  {
   "cell_type": "code",
   "execution_count": 1,
   "metadata": {},
   "outputs": [],
   "source": [
    "%%capture\n",
    "\n",
    "# Install all the pip packages in the requirements.txt\n",
    "import sys\n",
    "!{sys.executable} -m pip install -r requirements.txt"
   ]
  },
  {
   "cell_type": "markdown",
   "metadata": {},
   "source": [
    "<br>"
   ]
  },
  {
   "cell_type": "markdown",
   "metadata": {},
   "source": [
    "# <font color= #6B6B6B> 3. Data Description </font>"
   ]
  },
  {
   "cell_type": "markdown",
   "metadata": {},
   "source": [
    "<hr style=\"border:0.02in solid gray\"> </hr>"
   ]
  },
  {
   "cell_type": "code",
   "execution_count": 2,
   "metadata": {},
   "outputs": [],
   "source": [
    "# DELETE THIS CELL IN YOUR FILE\n",
    "\n",
    "# Here you include content from data conceptual, statistical and visual description"
   ]
  },
  {
   "cell_type": "markdown",
   "metadata": {},
   "source": [
    "<br>"
   ]
  },
  {
   "cell_type": "markdown",
   "metadata": {},
   "source": [
    "# <font color= #6B6B6B> 4. Proceso   </font>"
   ]
  },
  {
   "cell_type": "markdown",
   "metadata": {},
   "source": [
    "<hr style=\"border:0.02in solid gray\"> </hr>"
   ]
  },
  {
   "cell_type": "markdown",
   "metadata": {},
   "source": [
    "<font color= #6B6B6B> \n",
    "    \n",
    "### Parte 1. Estadística Descriptiva   \n",
    "\n",
    "</font>"
   ]
  },
  {
   "cell_type": "markdown",
   "metadata": {},
   "source": [
    "El archivo de functions.py contiene las siguientes funciones a continuación necesarios para la construcción del primer modulo:\n",
    "\n",
    "- **f_leer_archivo**: Lectura y visualización del historial de operaciones.\n",
    "\n",
    "- **f_pip_size**: Cáluclo del tamaño de pips por instrumento, pues al ser pares de divisas la conversión es diferente para cada una. \n",
    "\n",
    "- **f_columnas_tiempos**: Cierre de operaciones a formato datetime con la intención de hacer más sencilla la lectura y manejo de datos. A su vez determina el tiempo transcurrido en el que se mantuvo abierta la operación.\n",
    "\n",
    "- **f_columnas_pips**: Se expresan los pips generados por operaciones, es decir pérdidas y ganancias expresadas en esta unidad.\n",
    "\n",
    "- **f_estadisticas_ba**: Una función cuya salida sea un diccionario"
   ]
  },
  {
   "cell_type": "code",
   "execution_count": null,
   "metadata": {},
   "outputs": [],
   "source": []
  },
  {
   "cell_type": "code",
   "execution_count": null,
   "metadata": {},
   "outputs": [],
   "source": []
  },
  {
   "cell_type": "code",
   "execution_count": null,
   "metadata": {},
   "outputs": [],
   "source": []
  },
  {
   "cell_type": "markdown",
   "metadata": {},
   "source": [
    "<font color= #6B6B6B> \n",
    "    \n",
    "### Parte 2. Métricas de Atribución al Desempeño\n",
    "\n",
    "</font>"
   ]
  },
  {
   "cell_type": "markdown",
   "metadata": {},
   "source": [
    "El archivo de functions.py contiene las siguientes funciones a continuación necesarios para la construcción del segundo modulo:\n",
    "\n",
    "- **profit_acm_d**: Evolución del capital\n",
    "\n",
    "- **f_evolucion_capital**: Evolución del capital y cambió del profit\n",
    "\n",
    "- **f_estadisticas_mad**: Sharpe ratio, sharpe actualizado, drawdown y drawup"
   ]
  },
  {
   "cell_type": "code",
   "execution_count": null,
   "metadata": {},
   "outputs": [],
   "source": []
  },
  {
   "cell_type": "markdown",
   "metadata": {},
   "source": [
    "<font color= #6B6B6B> \n",
    "    \n",
    "### Parte 3. Comportamiento en las finanzas\n",
    "\n",
    "</font>"
   ]
  },
  {
   "cell_type": "markdown",
   "metadata": {},
   "source": [
    "El archivo de functions.py contiene las siguientes funciones a continuación necesarios para la construcción del tercer modulo:\n",
    "\n",
    "- **f_be_de** : Será la función con la cual se podrá recibir información sobre la presencia del Disposition Effect en el histórico de operaciones. "
   ]
  },
  {
   "cell_type": "code",
   "execution_count": null,
   "metadata": {},
   "outputs": [],
   "source": []
  },
  {
   "cell_type": "code",
   "execution_count": null,
   "metadata": {},
   "outputs": [],
   "source": []
  },
  {
   "cell_type": "markdown",
   "metadata": {},
   "source": [
    "# <font color= #6B6B6B> 5. Another particular Process  </font>"
   ]
  },
  {
   "cell_type": "markdown",
   "metadata": {},
   "source": [
    "<hr style=\"border:0.02in solid gray\"> </hr>"
   ]
  },
  {
   "cell_type": "code",
   "execution_count": 4,
   "metadata": {},
   "outputs": [],
   "source": [
    "# DELETE THIS CELL IN YOUR FILE\n",
    "\n",
    "# Another particular process that is relevant for the work. Normally, you include between 2 and 5 at the most."
   ]
  },
  {
   "cell_type": "markdown",
   "metadata": {},
   "source": [
    "<br>"
   ]
  },
  {
   "cell_type": "markdown",
   "metadata": {},
   "source": [
    "# <font color= #6B6B6B> <font size = 6> 5. Results </font>"
   ]
  },
  {
   "cell_type": "markdown",
   "metadata": {},
   "source": [
    "<hr style=\"border:0.02in solid gray\"> </hr>"
   ]
  },
  {
   "cell_type": "code",
   "execution_count": 5,
   "metadata": {},
   "outputs": [],
   "source": [
    "# DELETE THIS CELL IN YOUR FILE\n",
    "\n",
    "# In here you present the general results, and also, a discussion of such results."
   ]
  },
  {
   "cell_type": "markdown",
   "metadata": {},
   "source": [
    "<br>"
   ]
  },
  {
   "cell_type": "markdown",
   "metadata": {},
   "source": [
    "## <font color= #6B6B6B> 5.1 Results of first processes </font>"
   ]
  },
  {
   "cell_type": "code",
   "execution_count": 6,
   "metadata": {},
   "outputs": [],
   "source": [
    "# DELETE THIS CELL IN YOUR FILE\n",
    "\n",
    "# Separate your results according to the main processes you are working on"
   ]
  },
  {
   "cell_type": "markdown",
   "metadata": {},
   "source": [
    "<br>"
   ]
  },
  {
   "cell_type": "markdown",
   "metadata": {},
   "source": [
    "## <font color= #6B6B6B> 5.2 Results of another proces </font>"
   ]
  },
  {
   "cell_type": "code",
   "execution_count": 7,
   "metadata": {},
   "outputs": [],
   "source": [
    "# DELETE THIS CELL IN YOUR FILE\n",
    "\n",
    "# You can have several processes with which you are obtaining the results you need."
   ]
  },
  {
   "cell_type": "markdown",
   "metadata": {},
   "source": [
    "<br>"
   ]
  },
  {
   "cell_type": "markdown",
   "metadata": {},
   "source": [
    "# <font color= #6B6B6B> <font size = 6> 6. References </font>"
   ]
  },
  {
   "cell_type": "markdown",
   "metadata": {},
   "source": [
    "<hr style=\"border:0.02in solid gray\"> </hr>"
   ]
  },
  {
   "cell_type": "code",
   "execution_count": 8,
   "metadata": {},
   "outputs": [],
   "source": [
    "# DELETE THIS CELL IN YOUR FILE\n",
    "\n",
    "# Citations, and other references you are using.\n",
    "\n",
    "# DO INCLUDE THE FOLLOWING CITATION FOR THIS TEMPLATE"
   ]
  },
  {
   "cell_type": "markdown",
   "metadata": {},
   "source": [
    "[1] Munnoz, 2020. Python project template. https://github.com/iffranciscome/python-project. (2021)."
   ]
  },
  {
   "cell_type": "markdown",
   "metadata": {},
   "source": [
    "<br>"
   ]
  }
 ],
 "metadata": {
  "kernelspec": {
   "display_name": "Python 3",
   "language": "python",
   "name": "python3"
  },
  "language_info": {
   "codemirror_mode": {
    "name": "ipython",
    "version": 3
   },
   "file_extension": ".py",
   "mimetype": "text/x-python",
   "name": "python",
   "nbconvert_exporter": "python",
   "pygments_lexer": "ipython3",
   "version": "3.8.3"
  }
 },
 "nbformat": 4,
 "nbformat_minor": 4
}

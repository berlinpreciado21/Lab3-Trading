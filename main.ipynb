{
 "cells": [
  {
   "cell_type": "markdown",
   "metadata": {},
   "source": [
    "## Importación"
   ]
  },
  {
   "cell_type": "markdown",
   "metadata": {},
   "source": [
    "### Importación de funciones"
   ]
  },
  {
   "cell_type": "code",
   "execution_count": 1,
   "metadata": {},
   "outputs": [],
   "source": [
    "import functions as f"
   ]
  },
  {
   "cell_type": "markdown",
   "metadata": {},
   "source": [
    "### Importación de posiciones y pips"
   ]
  },
  {
   "cell_type": "code",
   "execution_count": 2,
   "metadata": {},
   "outputs": [],
   "source": [
    "#Importar posiciones y pips\n",
    "jorge = r'files\\historico_jorge.csv'\n",
    "new_doc_pips = f.f_leer_pip()\n",
    "posiciones = f.f_leer_archivo(jorge)"
   ]
  },
  {
   "cell_type": "markdown",
   "metadata": {},
   "source": [
    "## Modulo 1"
   ]
  },
  {
   "cell_type": "code",
   "execution_count": 3,
   "metadata": {},
   "outputs": [
    {
     "name": "stdout",
     "output_type": "stream",
     "text": [
      "                      Valor                            Descripcion\n",
      "Medida                                                            \n",
      "Ops totales       15.000000                    Operaciones totales\n",
      "Ganadoras          6.000000                  Operaciones ganadoras\n",
      "Ganadoras_c        2.000000        Operaciones ganadoras de compra\n",
      "Ganadoras_v        4.000000         Operaciones ganadoras de venta\n",
      "Perdedoras         9.000000                 Operaciones perdedoras\n",
      "Perdedoras_c       4.000000       Operaciones perdedoras de compra\n",
      "Perdedoras_v       5.000000        Operaciones perdedoras de venta\n",
      "Mediana(Profit) -266.510000       Mediana de profit de operaciones\n",
      "Mediana(Pips)    -18.900000         Mediana de pips de operaciones\n",
      "r_efectividad      0.400000  Ganadoras Totales/Operaciones Totales\n",
      "r_proporcion       0.666667   Ganadoras Totales/Perdedoras Totales\n",
      "r_efectividad_c    0.133333  Ganadoras compras/Operaciones Totales\n",
      "r_efectividad_v    0.266667   Ganadoras ventas/Operaciones Totales\n",
      "Los resultados se muestran en decimales\n",
      "          Rank\n",
      "Symbol        \n",
      "BITCOIN    1.0\n",
      "USDMXN     1.0\n",
      "USDJPY     1.0\n",
      "ETHEREUM   0.0\n",
      "EURUSD     0.0\n",
      "EURGBP     0.0\n",
      "WTICOUSD   0.0\n",
      "XPDUSD     0.0\n",
      "GBPUSD     0.0\n",
      "XPTUSD     0.0\n"
     ]
    }
   ],
   "source": [
    "posiciones = f.f_columnas_pips(posiciones,new_doc_pips)\n",
    "posiciones = f.f_columnas_tiempos(posiciones)\n",
    "# Resultados modulo 1\n",
    "modulo_1 = f.f_estadisticas_ba(posiciones)\n",
    "print(modulo_1[\"df_1_tabla\"])\n",
    "\n",
    "print(\"Los resultados se muestran en decimales\")\n",
    "print(modulo_1[\"df_2_ranking\"])"
   ]
  },
  {
   "cell_type": "markdown",
   "metadata": {},
   "source": [
    "## Modulo 2"
   ]
  },
  {
   "cell_type": "code",
   "execution_count": 4,
   "metadata": {},
   "outputs": [
    {
     "name": "stderr",
     "output_type": "stream",
     "text": [
      "C:\\Users\\zunigajo\\Documents\\GitHub\\Lab3-Trading\\functions.py:117: SettingWithCopyWarning: \n",
      "A value is trying to be set on a copy of a slice from a DataFrame.\n",
      "Try using .loc[row_indexer,col_indexer] = value instead\n",
      "\n",
      "See the caveats in the documentation: https://pandas.pydata.org/pandas-docs/stable/user_guide/indexing.html#returning-a-view-versus-a-copy\n",
      "  tabla[\"Opentime\"]=pd.to_datetime(tabla[\"Opentime\"])\n",
      "C:\\Users\\zunigajo\\Documents\\GitHub\\Lab3-Trading\\functions.py:120: SettingWithCopyWarning: \n",
      "A value is trying to be set on a copy of a slice from a DataFrame.\n",
      "Try using .loc[row_indexer,col_indexer] = value instead\n",
      "\n",
      "See the caveats in the documentation: https://pandas.pydata.org/pandas-docs/stable/user_guide/indexing.html#returning-a-view-versus-a-copy\n",
      "  tabla[\"Profit_acm_d\"]= tabla[\"Profit\"].cumsum()\n",
      "C:\\Users\\zunigajo\\Documents\\GitHub\\Lab3-Trading\\functions.py:121: SettingWithCopyWarning: \n",
      "A value is trying to be set on a copy of a slice from a DataFrame.\n",
      "Try using .loc[row_indexer,col_indexer] = value instead\n",
      "\n",
      "See the caveats in the documentation: https://pandas.pydata.org/pandas-docs/stable/user_guide/indexing.html#returning-a-view-versus-a-copy\n",
      "  tabla[\"cap_acum\"] = tabla[\"Profit_acm_d\"] + 100000\n"
     ]
    }
   ],
   "source": [
    "posiciones = f.f_evolucion_capital(posiciones)[1]"
   ]
  },
  {
   "cell_type": "code",
   "execution_count": 5,
   "metadata": {},
   "outputs": [],
   "source": [
    "posiciones = posiciones.reset_index()"
   ]
  },
  {
   "cell_type": "code",
   "execution_count": 6,
   "metadata": {},
   "outputs": [
    {
     "name": "stderr",
     "output_type": "stream",
     "text": [
      "C:\\Users\\zunigajo\\Anaconda3\\lib\\site-packages\\pandas\\core\\series.py:679: RuntimeWarning: invalid value encountered in log\n",
      "  result = getattr(ufunc, method)(*inputs, **kwargs)\n",
      "C:\\Users\\zunigajo\\Documents\\GitHub\\Lab3-Trading\\functions.py:141: RuntimeWarning: divide by zero encountered in double_scalars\n",
      "  shor= (rp - rf) / sigma\n"
     ]
    },
    {
     "data": {
      "text/html": [
       "<div>\n",
       "<style scoped>\n",
       "    .dataframe tbody tr th:only-of-type {\n",
       "        vertical-align: middle;\n",
       "    }\n",
       "\n",
       "    .dataframe tbody tr th {\n",
       "        vertical-align: top;\n",
       "    }\n",
       "\n",
       "    .dataframe thead th {\n",
       "        text-align: right;\n",
       "    }\n",
       "</style>\n",
       "<table border=\"1\" class=\"dataframe\">\n",
       "  <thead>\n",
       "    <tr style=\"text-align: right;\">\n",
       "      <th></th>\n",
       "      <th>metrica</th>\n",
       "      <th></th>\n",
       "      <th>Valor</th>\n",
       "      <th>descripcion</th>\n",
       "    </tr>\n",
       "  </thead>\n",
       "  <tbody>\n",
       "    <tr>\n",
       "      <th>0</th>\n",
       "      <td>sharpe_original</td>\n",
       "      <td>Cantidad</td>\n",
       "      <td>inf</td>\n",
       "      <td>Sharpe Ratio Fórmula Original</td>\n",
       "    </tr>\n",
       "    <tr>\n",
       "      <th>1</th>\n",
       "      <td>sharpe_actualizado</td>\n",
       "      <td>Cantidad</td>\n",
       "      <td>NaN</td>\n",
       "      <td>Sharpe Ratio Fórmula Ajustada</td>\n",
       "    </tr>\n",
       "    <tr>\n",
       "      <th>2</th>\n",
       "      <td>drawdown_capi</td>\n",
       "      <td>Fecha Inicial</td>\n",
       "      <td>2022-03-01 15:45:08</td>\n",
       "      <td>Fecha inicial del DrawDown de Capital</td>\n",
       "    </tr>\n",
       "    <tr>\n",
       "      <th>3</th>\n",
       "      <td>drawdown_capi</td>\n",
       "      <td>Fecha Final</td>\n",
       "      <td>2022-03-03 20:34:49</td>\n",
       "      <td>Fecha final del DrawDown de Capital</td>\n",
       "    </tr>\n",
       "    <tr>\n",
       "      <th>4</th>\n",
       "      <td>drawdown_capi</td>\n",
       "      <td>DrawDown $ (capital)</td>\n",
       "      <td>-10270.9</td>\n",
       "      <td>Máxima pérdida flotante registrada</td>\n",
       "    </tr>\n",
       "    <tr>\n",
       "      <th>5</th>\n",
       "      <td>drawup_capi</td>\n",
       "      <td>Fecha Inicial</td>\n",
       "      <td>2022-03-01 02:25:12</td>\n",
       "      <td>Fecha inicial del DrawUp de Capital</td>\n",
       "    </tr>\n",
       "    <tr>\n",
       "      <th>6</th>\n",
       "      <td>drawup_capi</td>\n",
       "      <td>Fecha Final</td>\n",
       "      <td>2022-03-01 15:45:08</td>\n",
       "      <td>Fecha final del DrawUp de Capital</td>\n",
       "    </tr>\n",
       "    <tr>\n",
       "      <th>7</th>\n",
       "      <td>drawup_capi</td>\n",
       "      <td>DrawDown $ (capital)</td>\n",
       "      <td>4549.4</td>\n",
       "      <td>Máxima ganancia flotante registrada</td>\n",
       "    </tr>\n",
       "  </tbody>\n",
       "</table>\n",
       "</div>"
      ],
      "text/plain": [
       "              metrica                                      Valor  \\\n",
       "0     sharpe_original              Cantidad                  inf   \n",
       "1  sharpe_actualizado              Cantidad                  NaN   \n",
       "2       drawdown_capi         Fecha Inicial  2022-03-01 15:45:08   \n",
       "3       drawdown_capi           Fecha Final  2022-03-03 20:34:49   \n",
       "4       drawdown_capi  DrawDown $ (capital)             -10270.9   \n",
       "5         drawup_capi         Fecha Inicial  2022-03-01 02:25:12   \n",
       "6         drawup_capi           Fecha Final  2022-03-01 15:45:08   \n",
       "7         drawup_capi  DrawDown $ (capital)               4549.4   \n",
       "\n",
       "                             descripcion  \n",
       "0          Sharpe Ratio Fórmula Original  \n",
       "1          Sharpe Ratio Fórmula Ajustada  \n",
       "2  Fecha inicial del DrawDown de Capital  \n",
       "3    Fecha final del DrawDown de Capital  \n",
       "4     Máxima pérdida flotante registrada  \n",
       "5    Fecha inicial del DrawUp de Capital  \n",
       "6      Fecha final del DrawUp de Capital  \n",
       "7    Máxima ganancia flotante registrada  "
      ]
     },
     "execution_count": 6,
     "metadata": {},
     "output_type": "execute_result"
    }
   ],
   "source": [
    "f.f_estadisticas_mad(posiciones)"
   ]
  },
  {
   "cell_type": "markdown",
   "metadata": {},
   "source": [
    "## Modulo 3"
   ]
  },
  {
   "cell_type": "code",
   "execution_count": 38,
   "metadata": {},
   "outputs": [
    {
     "data": {
      "text/plain": [
       "True"
      ]
     },
     "execution_count": 38,
     "metadata": {},
     "output_type": "execute_result"
    }
   ],
   "source": [
    "import MetaTrader5 as mt5\n",
    "mt5.initialize()"
   ]
  },
  {
   "cell_type": "code",
   "execution_count": 39,
   "metadata": {},
   "outputs": [],
   "source": [
    "# Llamar a las funciones del módulo 3\n",
    "modulo_3 = f.f_be_de(posiciones)"
   ]
  },
  {
   "cell_type": "code",
   "execution_count": 44,
   "metadata": {},
   "outputs": [
    {
     "data": {
      "text/html": [
       "<div>\n",
       "<style scoped>\n",
       "    .dataframe tbody tr th:only-of-type {\n",
       "        vertical-align: middle;\n",
       "    }\n",
       "\n",
       "    .dataframe tbody tr th {\n",
       "        vertical-align: top;\n",
       "    }\n",
       "\n",
       "    .dataframe thead th {\n",
       "        text-align: right;\n",
       "    }\n",
       "</style>\n",
       "<table border=\"1\" class=\"dataframe\">\n",
       "  <thead>\n",
       "    <tr style=\"text-align: right;\">\n",
       "      <th></th>\n",
       "      <th>ocurrencias</th>\n",
       "      <th>status_quo</th>\n",
       "      <th>aversion_perdida</th>\n",
       "      <th>sensibilidad_decreciente</th>\n",
       "    </tr>\n",
       "  </thead>\n",
       "  <tbody>\n",
       "    <tr>\n",
       "      <th>0</th>\n",
       "      <td>7</td>\n",
       "      <td>4</td>\n",
       "      <td>3</td>\n",
       "      <td>0</td>\n",
       "    </tr>\n",
       "  </tbody>\n",
       "</table>\n",
       "</div>"
      ],
      "text/plain": [
       "   ocurrencias  status_quo  aversion_perdida  sensibilidad_decreciente\n",
       "0            7           4                 3                         0"
      ]
     },
     "execution_count": 44,
     "metadata": {},
     "output_type": "execute_result"
    }
   ],
   "source": [
    "modulo_3[\"Resultados\"][\"dataframe\"]"
   ]
  },
  {
   "cell_type": "code",
   "execution_count": null,
   "metadata": {},
   "outputs": [],
   "source": []
  }
 ],
 "metadata": {
  "kernelspec": {
   "display_name": "Python 3",
   "language": "python",
   "name": "python3"
  },
  "language_info": {
   "codemirror_mode": {
    "name": "ipython",
    "version": 3
   },
   "file_extension": ".py",
   "mimetype": "text/x-python",
   "name": "python",
   "nbconvert_exporter": "python",
   "pygments_lexer": "ipython3",
   "version": "3.7.6"
  }
 },
 "nbformat": 4,
 "nbformat_minor": 4
}

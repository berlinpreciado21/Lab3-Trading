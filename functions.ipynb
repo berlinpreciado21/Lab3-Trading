{
 "cells": [
  {
   "cell_type": "code",
   "execution_count": 17,
   "metadata": {},
   "outputs": [],
   "source": [
    "#m Se importan las librerias necesarias\n",
    "from datetime import datetime\n",
    "import pandas as pd\n",
    "import numpy as np\n",
    "import datetime\n",
    "import collections\n",
    "import pandas_datareader.data as web"
   ]
  },
  {
   "cell_type": "code",
   "execution_count": 13,
   "metadata": {},
   "outputs": [],
   "source": [
    "# Se importa la librería para importar los historiales de metatraderfrom datetime import datetime\n",
    "import MetaTrader5 as mt5"
   ]
  },
  {
   "cell_type": "code",
   "execution_count": 14,
   "metadata": {},
   "outputs": [],
   "source": [
    "local_exe = 'C:\\Program Files\\FxPro - MetaTrader 5\\terminal64.exe'\n",
    "# Fechas de descarga\n",
    "fi = datetime.datetime(2022, 2, 14, 0, 0) #Fecha de inicio de historicos\n",
    "ff = datetime.datetime(2022, 3, 22, 0, 0)# Fecha final \n"
   ]
  },
  {
   "cell_type": "markdown",
   "metadata": {},
   "source": [
    "La siguiente función será utilizada para poder extraer y leer los historicos de las operaciones de las distintas cuentas en Metratrade5-"
   ]
  },
  {
   "cell_type": "code",
   "execution_count": 18,
   "metadata": {},
   "outputs": [],
   "source": [
    "def f_leer_archivo(numcue: int, contra: str, direc: str, fi, ff):\n",
    "    usuario = mt5.f_init_login(numcue, contra, direc)\n",
    "    usuinfo = mt5.f_acc_info(mt5_client)\n",
    "    hist = mt5.f_hist_trades(param_ct=usuario, usuinfo=fi, hist=ff)#Precios historicos\n",
    "    return hist"
   ]
  }
 ],
 "metadata": {
  "kernelspec": {
   "display_name": "Python 3",
   "language": "python",
   "name": "python3"
  },
  "language_info": {
   "codemirror_mode": {
    "name": "ipython",
    "version": 3
   },
   "file_extension": ".py",
   "mimetype": "text/x-python",
   "name": "python",
   "nbconvert_exporter": "python",
   "pygments_lexer": "ipython3",
   "version": "3.8.3"
  }
 },
 "nbformat": 4,
 "nbformat_minor": 4
}
